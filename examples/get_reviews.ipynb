{
 "cells": [
  {
   "cell_type": "code",
   "execution_count": 1,
   "id": "a35fff82-3964-4855-97ba-0f3d61230ea1",
   "metadata": {},
   "outputs": [],
   "source": [
    "import json\n",
    "\n",
    "import outscraper\n",
    "from place_explorer.utils import get_reviews, concat_reviews"
   ]
  },
  {
   "cell_type": "code",
   "execution_count": 2,
   "id": "b7926d27-aa7e-442e-a462-22688c8638c6",
   "metadata": {},
   "outputs": [],
   "source": [
    "with open(\"api_key.json\", \"rt\") as f:\n",
    "    api_key = json.load(f)"
   ]
  },
  {
   "cell_type": "code",
   "execution_count": 3,
   "id": "50239b52-af65-4306-a28f-600f1879963e",
   "metadata": {},
   "outputs": [],
   "source": [
    "outscraper_client = outscraper.ApiClient(api_key['outscraper_api_key'])"
   ]
  },
  {
   "cell_type": "code",
   "execution_count": 4,
   "id": "4d90d622-1e96-4add-9205-df90dc4c9908",
   "metadata": {},
   "outputs": [
    {
     "name": "stderr",
     "output_type": "stream",
     "text": [
      "100%|███████████████████████████████████████| 965/965 [6:18:15<00:00, 23.52s/it]\n"
     ]
    }
   ],
   "source": [
    "get_reviews(outscraper_client, 'tohoku_ruins.csv', 'tohoku_ruins_reviews', reviews_limit=10000, language=\"ja\", save_responses=True)"
   ]
  },
  {
   "cell_type": "code",
   "execution_count": 5,
   "id": "981a2c0a-90d5-4c1e-92af-64a8866be2fa",
   "metadata": {},
   "outputs": [],
   "source": [
    "df = concat_reviews(\"tohoku_ruins_reviews\")"
   ]
  },
  {
   "cell_type": "code",
   "execution_count": 6,
   "id": "53138f6a-e37c-49c2-afdc-7c85f9ffa1be",
   "metadata": {},
   "outputs": [],
   "source": [
    "df.to_csv(\"tohoku_ruins_reviews.csv\")"
   ]
  }
 ],
 "metadata": {
  "kernelspec": {
   "display_name": "Python 3 (ipykernel)",
   "language": "python",
   "name": "python3"
  },
  "language_info": {
   "codemirror_mode": {
    "name": "ipython",
    "version": 3
   },
   "file_extension": ".py",
   "mimetype": "text/x-python",
   "name": "python",
   "nbconvert_exporter": "python",
   "pygments_lexer": "ipython3",
   "version": "3.9.13"
  }
 },
 "nbformat": 4,
 "nbformat_minor": 5
}
