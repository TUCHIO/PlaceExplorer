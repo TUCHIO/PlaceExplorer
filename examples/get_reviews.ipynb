{
 "cells": [
  {
   "cell_type": "code",
   "execution_count": 1,
   "id": "a35fff82-3964-4855-97ba-0f3d61230ea1",
   "metadata": {},
   "outputs": [],
   "source": [
    "import json\n",
    "\n",
    "import outscraper\n",
    "from place_explorer.utils import get_reviews"
   ]
  },
  {
   "cell_type": "code",
   "execution_count": 2,
   "id": "b7926d27-aa7e-442e-a462-22688c8638c6",
   "metadata": {},
   "outputs": [],
   "source": [
    "with open(\"api_key.json\", \"rt\") as f:\n",
    "    api_key = json.load(f)"
   ]
  },
  {
   "cell_type": "code",
   "execution_count": 3,
   "id": "50239b52-af65-4306-a28f-600f1879963e",
   "metadata": {},
   "outputs": [],
   "source": [
    "outscraper_client = outscraper.ApiClient(api_key['outscraper_api_key'])"
   ]
  },
  {
   "cell_type": "code",
   "execution_count": 14,
   "id": "4d90d622-1e96-4add-9205-df90dc4c9908",
   "metadata": {},
   "outputs": [
    {
     "name": "stderr",
     "output_type": "stream",
     "text": [
      " 17%|███████                                  | 165/965 [00:33<02:42,  4.93it/s]"
     ]
    },
    {
     "name": "stdout",
     "output_type": "stream",
     "text": [
      "list index out of range\n",
      "ChIJA6V5F-a9iF8RL_meR5L6tzE\n"
     ]
    },
    {
     "name": "stderr",
     "output_type": "stream",
     "text": [
      " 32%|████████████▉                            | 304/965 [00:47<01:38,  6.73it/s]"
     ]
    },
    {
     "name": "stdout",
     "output_type": "stream",
     "text": [
      "list index out of range\n",
      "ChIJIa8TopWjiV8RVrDYUSLiBHw\n"
     ]
    },
    {
     "name": "stderr",
     "output_type": "stream",
     "text": [
      " 32%|█████████████▏                           | 309/965 [01:53<05:28,  1.99it/s]"
     ]
    },
    {
     "name": "stdout",
     "output_type": "stream",
     "text": [
      "list index out of range\n",
      "ChIJIzSkchOwiV8Rb6v1P5FOqC4\n"
     ]
    },
    {
     "name": "stderr",
     "output_type": "stream",
     "text": [
      " 46%|█████████████████▉                     | 444/965 [45:06<2:05:16, 14.43s/it]"
     ]
    },
    {
     "name": "stdout",
     "output_type": "stream",
     "text": [
      "list index out of range\n",
      "ChIJR4wu3hS9iF8Rl92U9oTAPoA\n"
     ]
    },
    {
     "name": "stderr",
     "output_type": "stream",
     "text": [
      " 57%|████████████████████               | 553/965 [1:52:12<31:43:06, 277.15s/it]"
     ]
    },
    {
     "name": "stdout",
     "output_type": "stream",
     "text": [
      "list index out of range\n",
      "ChIJY9dM00mjiF8RywOqih3kP4c\n"
     ]
    },
    {
     "name": "stderr",
     "output_type": "stream",
     "text": [
      " 58%|████████████████████▏              | 555/965 [2:03:46<38:53:53, 341.55s/it]"
     ]
    },
    {
     "name": "stdout",
     "output_type": "stream",
     "text": [
      "list index out of range\n",
      "ChIJYSaYn8KxiV8RzB0uy8CpZoI\n"
     ]
    },
    {
     "name": "stderr",
     "output_type": "stream",
     "text": [
      " 58%|████████████████████▍              | 562/965 [2:35:09<63:22:22, 566.11s/it]"
     ]
    },
    {
     "name": "stdout",
     "output_type": "stream",
     "text": [
      "list index out of range\n",
      "ChIJYyvrmFyjiV8RJOkYfcirzhY\n"
     ]
    },
    {
     "name": "stderr",
     "output_type": "stream",
     "text": [
      " 60%|██████████████████████▏              | 578/965 [2:39:57<1:46:23, 16.50s/it]"
     ]
    },
    {
     "name": "stdout",
     "output_type": "stream",
     "text": [
      "list index out of range\n",
      "ChIJZe98wRT_iF8RwfJG1djfx9k\n"
     ]
    },
    {
     "name": "stderr",
     "output_type": "stream",
     "text": [
      " 72%|██████████████████████████▊          | 699/965 [3:22:38<7:11:34, 97.35s/it]"
     ]
    },
    {
     "name": "stdout",
     "output_type": "stream",
     "text": [
      "list index out of range\n",
      "ChIJh8LWNmajiV8RJ5iA9Ct8Tmk\n"
     ]
    },
    {
     "name": "stderr",
     "output_type": "stream",
     "text": [
      " 76%|██████████████████████████▌        | 732/965 [3:44:45<12:13:51, 188.98s/it]"
     ]
    },
    {
     "name": "stdout",
     "output_type": "stream",
     "text": [
      "list index out of range\n",
      "ChIJkfqODwi9iF8RaDK5ViMyRUg\n"
     ]
    },
    {
     "name": "stderr",
     "output_type": "stream",
     "text": [
      " 82%|████████████████████████████████       | 794/965 [4:08:46<54:44, 19.21s/it]"
     ]
    },
    {
     "name": "stdout",
     "output_type": "stream",
     "text": [
      "list index out of range\n",
      "ChIJp6vuQzK9iF8RwXdcwyQjaL0\n"
     ]
    },
    {
     "name": "stderr",
     "output_type": "stream",
     "text": [
      " 83%|█████████████████████████████      | 803/965 [4:31:22<16:13:17, 360.48s/it]"
     ]
    },
    {
     "name": "stdout",
     "output_type": "stream",
     "text": [
      "list index out of range\n",
      "ChIJpZJr02ejiV8RPhx53NOEWIc\n"
     ]
    },
    {
     "name": "stderr",
     "output_type": "stream",
     "text": [
      " 84%|█████████████████████████████▏     | 806/965 [4:52:22<22:00:39, 498.36s/it]"
     ]
    },
    {
     "name": "stdout",
     "output_type": "stream",
     "text": [
      "list index out of range\n",
      "ChIJpb4hqVeYiV8R2C6oh-MImY0\n"
     ]
    },
    {
     "name": "stderr",
     "output_type": "stream",
     "text": [
      " 87%|██████████████████████████████▎    | 836/965 [5:35:09<20:02:17, 559.21s/it]"
     ]
    },
    {
     "name": "stdout",
     "output_type": "stream",
     "text": [
      "list index out of range\n",
      "ChIJr96DbBr5iF8R6pRia5X0Tis\n"
     ]
    },
    {
     "name": "stderr",
     "output_type": "stream",
     "text": [
      "100%|███████████████████████████████████████| 965/965 [6:18:15<00:00, 23.52s/it]\n"
     ]
    }
   ],
   "source": [
    "get_reviews(outscraper_client, 'tohoku_ruins.csv', 'tohoku_ruins_reviews', reviews_limit=10000, language=\"ja\", save_responses=True)"
   ]
  },
  {
   "cell_type": "code",
   "execution_count": null,
   "id": "b1f3c76d-5e0c-4924-ae6f-9ca93e6c3127",
   "metadata": {},
   "outputs": [],
   "source": []
  }
 ],
 "metadata": {
  "kernelspec": {
   "display_name": "Python 3 (ipykernel)",
   "language": "python",
   "name": "python3"
  },
  "language_info": {
   "codemirror_mode": {
    "name": "ipython",
    "version": 3
   },
   "file_extension": ".py",
   "mimetype": "text/x-python",
   "name": "python",
   "nbconvert_exporter": "python",
   "pygments_lexer": "ipython3",
   "version": "3.9.13"
  }
 },
 "nbformat": 4,
 "nbformat_minor": 5
}
