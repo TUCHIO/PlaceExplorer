{
 "cells": [
  {
   "cell_type": "code",
   "execution_count": null,
   "id": "a35fff82-3964-4855-97ba-0f3d61230ea1",
   "metadata": {},
   "outputs": [],
   "source": [
    "import json\n",
    "\n",
    "import outscraper\n",
    "from place_explorer.utils import get_reviews"
   ]
  },
  {
   "cell_type": "code",
   "execution_count": null,
   "id": "b7926d27-aa7e-442e-a462-22688c8638c6",
   "metadata": {},
   "outputs": [],
   "source": [
    "with open(\"api_key.json\", \"rt\") as f:\n",
    "    api_key = json.load(f)"
   ]
  },
  {
   "cell_type": "code",
   "execution_count": null,
   "id": "50239b52-af65-4306-a28f-600f1879963e",
   "metadata": {},
   "outputs": [],
   "source": [
    "outscraper_client = outscraper.ApiClient(api_key['outscraper_api_key'])"
   ]
  },
  {
   "cell_type": "code",
   "execution_count": null,
   "id": "4d90d622-1e96-4add-9205-df90dc4c9908",
   "metadata": {},
   "outputs": [],
   "source": [
    "get_reviews(outscraper_client, 'easterisland_places.csv', 'easterisland_reviews', reviews_limit=1, language=\"ja\", save_responses=True)"
   ]
  },
  {
   "cell_type": "code",
   "execution_count": null,
   "id": "b1f3c76d-5e0c-4924-ae6f-9ca93e6c3127",
   "metadata": {},
   "outputs": [],
   "source": []
  }
 ],
 "metadata": {
  "kernelspec": {
   "display_name": "Python 3 (ipykernel)",
   "language": "python",
   "name": "python3"
  },
  "language_info": {
   "codemirror_mode": {
    "name": "ipython",
    "version": 3
   },
   "file_extension": ".py",
   "mimetype": "text/x-python",
   "name": "python",
   "nbconvert_exporter": "python",
   "pygments_lexer": "ipython3",
   "version": "3.9.13"
  }
 },
 "nbformat": 4,
 "nbformat_minor": 5
}
