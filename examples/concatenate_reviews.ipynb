{
 "cells": [
  {
   "cell_type": "code",
   "execution_count": 1,
   "id": "dd6411d3-b38a-4cc3-b308-6df6657ca3c1",
   "metadata": {},
   "outputs": [],
   "source": [
    "from place_explorer.utils import concat_reviews"
   ]
  },
  {
   "cell_type": "code",
   "execution_count": 2,
   "id": "de2a4946-65dc-4110-8290-01f04397292b",
   "metadata": {},
   "outputs": [],
   "source": [
    "df = concat_reviews(\"easterisland_reviews\")"
   ]
  },
  {
   "cell_type": "code",
   "execution_count": 3,
   "id": "af8a6659-f645-445f-b78a-7dda99b0b1be",
   "metadata": {},
   "outputs": [],
   "source": [
    "df.to_csv(\"easterisland_reviews.csv\")"
   ]
  }
 ],
 "metadata": {
  "kernelspec": {
   "display_name": "Python 3 (ipykernel)",
   "language": "python",
   "name": "python3"
  },
  "language_info": {
   "codemirror_mode": {
    "name": "ipython",
    "version": 3
   },
   "file_extension": ".py",
   "mimetype": "text/x-python",
   "name": "python",
   "nbconvert_exporter": "python",
   "pygments_lexer": "ipython3",
   "version": "3.9.13"
  }
 },
 "nbformat": 4,
 "nbformat_minor": 5
}
