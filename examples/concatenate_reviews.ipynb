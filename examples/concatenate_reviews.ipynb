{
 "cells": [
  {
   "cell_type": "code",
   "execution_count": 1,
   "id": "dd6411d3-b38a-4cc3-b308-6df6657ca3c1",
   "metadata": {},
   "outputs": [],
   "source": [
    "from place_explorer.utils import concat_reviews"
   ]
  },
  {
   "cell_type": "code",
   "execution_count": 2,
   "id": "de2a4946-65dc-4110-8290-01f04397292b",
   "metadata": {},
   "outputs": [
    {
     "name": "stdout",
     "output_type": "stream",
     "text": [
      "Error occured while reading tohoku_ruins_reviews/ChIJR4wu3hS9iF8Rl92U9oTAPoA.json: list index out of range\n",
      "Error occured while reading tohoku_ruins_reviews/ChIJY9dM00mjiF8RywOqih3kP4c.json: list index out of range\n",
      "Error occured while reading tohoku_ruins_reviews/ChIJZe98wRT_iF8RwfJG1djfx9k.json: list index out of range\n",
      "Error occured while reading tohoku_ruins_reviews/ChIJIzSkchOwiV8Rb6v1P5FOqC4.json: list index out of range\n",
      "Error occured while reading tohoku_ruins_reviews/ChIJpb4hqVeYiV8R2C6oh-MImY0.json: list index out of range\n",
      "Error occured while reading tohoku_ruins_reviews/ChIJYSaYn8KxiV8RzB0uy8CpZoI.json: list index out of range\n",
      "Error occured while reading tohoku_ruins_reviews/ChIJYyvrmFyjiV8RJOkYfcirzhY.json: list index out of range\n",
      "Error occured while reading tohoku_ruins_reviews/ChIJp6vuQzK9iF8RwXdcwyQjaL0.json: list index out of range\n",
      "Error occured while reading tohoku_ruins_reviews/ChIJh8LWNmajiV8RJ5iA9Ct8Tmk.json: list index out of range\n",
      "Error occured while reading tohoku_ruins_reviews/ChIJIa8TopWjiV8RVrDYUSLiBHw.json: list index out of range\n",
      "Error occured while reading tohoku_ruins_reviews/ChIJkfqODwi9iF8RaDK5ViMyRUg.json: list index out of range\n",
      "Error occured while reading tohoku_ruins_reviews/ChIJr96DbBr5iF8R6pRia5X0Tis.json: list index out of range\n",
      "Error occured while reading tohoku_ruins_reviews/ChIJpZJr02ejiV8RPhx53NOEWIc.json: list index out of range\n",
      "Error occured while reading tohoku_ruins_reviews/ChIJA6V5F-a9iF8RL_meR5L6tzE.json: list index out of range\n"
     ]
    }
   ],
   "source": [
    "df = concat_reviews(\"tohoku_ruins_reviews\")"
   ]
  },
  {
   "cell_type": "code",
   "execution_count": 3,
   "id": "af8a6659-f645-445f-b78a-7dda99b0b1be",
   "metadata": {},
   "outputs": [],
   "source": [
    "df.to_csv(\"tohoku_ruins_reviews.csv\")"
   ]
  },
  {
   "cell_type": "code",
   "execution_count": null,
   "id": "5a7fb8a4-7274-4f94-a7b3-e010cc267b35",
   "metadata": {},
   "outputs": [],
   "source": []
  }
 ],
 "metadata": {
  "kernelspec": {
   "display_name": "Python 3 (ipykernel)",
   "language": "python",
   "name": "python3"
  },
  "language_info": {
   "codemirror_mode": {
    "name": "ipython",
    "version": 3
   },
   "file_extension": ".py",
   "mimetype": "text/x-python",
   "name": "python",
   "nbconvert_exporter": "python",
   "pygments_lexer": "ipython3",
   "version": "3.9.13"
  }
 },
 "nbformat": 4,
 "nbformat_minor": 5
}
