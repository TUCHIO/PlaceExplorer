{
 "cells": [
  {
   "cell_type": "markdown",
   "id": "61273aec-0505-4fbc-a508-2092ff86cbf7",
   "metadata": {
    "tags": []
   },
   "source": [
    "# Add detailed information\n",
    "## Add reviews and category information"
   ]
  },
  {
   "cell_type": "code",
   "execution_count": null,
   "id": "a35fff82-3964-4855-97ba-0f3d61230ea1",
   "metadata": {},
   "outputs": [],
   "source": [
    "import json\n",
    "\n",
    "from place_explorer.utils import add_detailed_infos"
   ]
  },
  {
   "cell_type": "code",
   "execution_count": null,
   "id": "b7926d27-aa7e-442e-a462-22688c8638c6",
   "metadata": {},
   "outputs": [],
   "source": [
    "with open(\"api_key.json\", \"rt\") as f:\n",
    "    api_key = json.load(f)"
   ]
  },
  {
   "cell_type": "code",
   "execution_count": null,
   "id": "4d90d622-1e96-4add-9205-df90dc4c9908",
   "metadata": {},
   "outputs": [],
   "source": [
    "add_detailed_infos('easterisland_places.csv', 'easterisland_places_detail.csv', api_key['outscraper_api_key'])"
   ]
  }
 ],
 "metadata": {
  "kernelspec": {
   "display_name": "Python 3 (ipykernel)",
   "language": "python",
   "name": "python3"
  },
  "language_info": {
   "codemirror_mode": {
    "name": "ipython",
    "version": 3
   },
   "file_extension": ".py",
   "mimetype": "text/x-python",
   "name": "python",
   "nbconvert_exporter": "python",
   "pygments_lexer": "ipython3",
   "version": "3.9.13"
  }
 },
 "nbformat": 4,
 "nbformat_minor": 5
}
